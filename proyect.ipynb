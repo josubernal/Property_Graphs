{
 "cells": [
  {
   "cell_type": "code",
   "execution_count": 6,
   "metadata": {},
   "outputs": [
    {
     "name": "stdout",
     "output_type": "stream",
     "text": [
      "CSVs successfully created\n"
     ]
    }
   ],
   "source": [
    "%run scripts/make.py\n",
    "\n"
   ]
  },
  {
   "cell_type": "code",
   "execution_count": 11,
   "metadata": {},
   "outputs": [
    {
     "name": "stdout",
     "output_type": "stream",
     "text": [
      "C:\\Users\\josub\\Documents\\Neo4j\\relate-data\\dbmss\\dbms-63530268-3389-4bdc-9b02-07e7210fa2f0\\bin\\neo4j-admin database import full --overwrite-destination --verbose --delimiter \"|\" --array-delimiter \"^\" --nodes=paper=\"c:/Users/josub/Desktop/BDMA/Barcelona/Semantic_Data_Management/Property_Graph/csv/paper.csv\" --nodes=author=\"c:/Users/josub/Desktop/BDMA/Barcelona/Semantic_Data_Management/Property_Graph/csv/author.csv\" --nodes=keyword=\"c:/Users/josub/Desktop/BDMA/Barcelona/Semantic_Data_Management/Property_Graph/csv/keywords.csv\" --nodes=event=\"c:/Users/josub/Desktop/BDMA/Barcelona/Semantic_Data_Management/Property_Graph/csv/confws.csv\" --nodes=event_edition=\"c:/Users/josub/Desktop/BDMA/Barcelona/Semantic_Data_Management/Property_Graph/csv/confws_edition.csv\" --nodes=journal=\"c:/Users/josub/Desktop/BDMA/Barcelona/Semantic_Data_Management/Property_Graph/csv/journal.csv\" --relationships=published=\"c:/Users/josub/Desktop/BDMA/Barcelona/Semantic_Data_Management/Property_Graph/csv/paper_journal.csv\" --relationships=presented=\"c:/Users/josub/Desktop/BDMA/Barcelona/Semantic_Data_Management/Property_Graph/csv/paper_confws.csv\" --relationships=writes=\"c:/Users/josub/Desktop/BDMA/Barcelona/Semantic_Data_Management/Property_Graph/csv/author_paper.csv\" --relationships=cite=\"c:/Users/josub/Desktop/BDMA/Barcelona/Semantic_Data_Management/Property_Graph/csv/paper_paper.csv\" --relationships=has_keyword=\"c:/Users/josub/Desktop/BDMA/Barcelona/Semantic_Data_Management/Property_Graph/csv/paper_keywords.csv\" --relationships=has_corresponding_author=\"c:/Users/josub/Desktop/BDMA/Barcelona/Semantic_Data_Management/Property_Graph/csv/paper_corresponding_author.csv\" --relationships=has_edition=\"c:/Users/josub/Desktop/BDMA/Barcelona/Semantic_Data_Management/Property_Graph/csv/confws_edition_confws.csv\" --relationships=reviewed_by=\"c:/Users/josub/Desktop/BDMA/Barcelona/Semantic_Data_Management/Property_Graph/csv/paper_review.csv\"\n"
     ]
    }
   ],
   "source": [
    "import platform\n",
    "from dotenv import load_dotenv\n",
    "import os\n",
    "import subprocess\n",
    "\n",
    "load_dotenv()\n",
    "csv_path = os.getcwd().replace(\"\\\\\", \"/\") + \"/csv\"\n",
    "\n",
    "DB_PATH= os.environ.get('NEO4J_DB_PATH')\n",
    "\n",
    "if platform.system() == \"Windows\":\n",
    "    print(f'{DB_PATH}\\\\bin\\\\neo4j-admin database import full --overwrite-destination --verbose --delimiter \"|\" --array-delimiter \"^\" --nodes=paper=\"{csv_path}/paper.csv\" --nodes=author=\"{csv_path}/author.csv\" --nodes=keyword=\"{csv_path}/keywords.csv\" --nodes=event=\"{csv_path}/confws.csv\" --nodes=event_edition=\"{csv_path}/confws_edition.csv\" --nodes=journal=\"{csv_path}/journal.csv\" --relationships=published=\"{csv_path}/paper_journal.csv\" --relationships=presented=\"{csv_path}/paper_confws.csv\" --relationships=writes=\"{csv_path}/author_paper.csv\" --relationships=cite=\"{csv_path}/paper_paper.csv\" --relationships=has_keyword=\"{csv_path}/paper_keywords.csv\" --relationships=has_corresponding_author=\"{csv_path}/paper_corresponding_author.csv\" --relationships=has_edition=\"{csv_path}/confws_edition_confws.csv\" --relationships=reviewed_by=\"{csv_path}/paper_review.csv\"')\n",
    "else:\n",
    "    print(\"This is not a Windows machine.\")"
   ]
  }
 ],
 "metadata": {
  "kernelspec": {
   "display_name": "base",
   "language": "python",
   "name": "python3"
  },
  "language_info": {
   "codemirror_mode": {
    "name": "ipython",
    "version": 3
   },
   "file_extension": ".py",
   "mimetype": "text/x-python",
   "name": "python",
   "nbconvert_exporter": "python",
   "pygments_lexer": "ipython3",
   "version": "3.12.7"
  }
 },
 "nbformat": 4,
 "nbformat_minor": 2
}
