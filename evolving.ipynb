{
 "cells": [
  {
   "cell_type": "code",
   "execution_count": 16,
   "metadata": {},
   "outputs": [],
   "source": [
    "from neo4j import GraphDatabase\n",
    "from dotenv import load_dotenv\n",
    "import os\n",
    "import pandas as pd"
   ]
  },
  {
   "cell_type": "code",
   "execution_count": 17,
   "metadata": {},
   "outputs": [],
   "source": [
    "load_dotenv()\n",
    "URI = os.environ.get('NEO4J_URI')\n",
    "USERNAME = os.environ.get('NEO4J_USERNAME')\n",
    "PASSWORD = os.environ.get('NEO4J_PASSWORD')\n",
    "DB_PATH= os.environ.get('NEO4J_DB_PATH')"
   ]
  },
  {
   "cell_type": "code",
   "execution_count": 18,
   "metadata": {},
   "outputs": [],
   "source": [
    "driver = GraphDatabase.driver(URI, auth=(USERNAME, PASSWORD))"
   ]
  },
  {
   "cell_type": "code",
   "execution_count": 19,
   "metadata": {},
   "outputs": [],
   "source": [
    "def run_query(query, params={}):\n",
    "    with driver.session() as session:\n",
    "        result = session.run(query, params)\n",
    "        return result.data()  # Returns list of dictionaries\n"
   ]
  },
  {
   "cell_type": "code",
   "execution_count": 22,
   "metadata": {},
   "outputs": [
    {
     "data": {
      "text/plain": [
       "'C:\\\\Users\\\\josub\\\\Documents\\\\Neo4j\\\\relate-data\\\\dbmss\\\\dbms-63530268-3389-4bdc-9b02-07e7210fa2f0/import\\\\affiliation.csv'"
      ]
     },
     "execution_count": 22,
     "metadata": {},
     "output_type": "execute_result"
    }
   ],
   "source": [
    "import shutil\n",
    "import os\n",
    "\n",
    "source = os.getcwd().replace(\"\\\\\", \"/\") + \"/csv/affiliation.csv\"\n",
    "destination = DB_PATH + \"/import\"\n",
    "\n",
    "shutil.copy(source, destination) "
   ]
  },
  {
   "cell_type": "code",
   "execution_count": null,
   "metadata": {},
   "outputs": [
    {
     "name": "stderr",
     "output_type": "stream",
     "text": [
      "Received notification from DBMS server: {severity: WARNING} {code: Neo.ClientNotification.Statement.FeatureDeprecationWarning} {category: DEPRECATION} {title: This feature is deprecated and will be removed in future versions.} {description: The query used a deprecated function: `id`.} {position: line: 5, column: 14, offset: 110} for query: '\\nMATCH (a:author)\\nMATCH (af:affiliation)\\nWITH a, COLLECT(af) as affs, SIZE(COLLECT(af)) as total\\nWITH a, affs[ID(a) % total] as m\\nMERGE (a)-[:affiliated_to]->(m)\\n'\n"
     ]
    }
   ],
   "source": [
    "file=\"csv/reviews.csv\"\n",
    "df=pd.read_csv(file, sep=\"|\")\n",
    "bad_rev=df[df[\"type\"]==\"bad\"][\"review\"].to_list()\n",
    "good_rev=df[df[\"type\"]==\"good\"][\"review\"].to_list()\n",
    "\n",
    "\n",
    "#I use modulos instead of rand() to make it reproducible (Seeds are not supported)\n",
    "\n",
    "queries=[\"\"\"\n",
    "LOAD CSV FROM 'file:///affiliation.csv' AS row\n",
    "FIELDTERMINATOR '|'\n",
    "MERGE (n:affiliation {affiliationId: toInteger(row[0]), name: row[1], type: row[2]})\n",
    "\"\"\",\n",
    "\"\"\"\n",
    "MATCH (a:author)\n",
    "MATCH (af:affiliation)\n",
    "WITH a, COLLECT(af) as affs, SIZE(COLLECT(af)) as total\n",
    "WITH a, affs[ID(a) % total] as m\n",
    "MERGE (a)-[:affiliated_to]->(m)\n",
    "\"\"\",\n",
    "\"\"\"\n",
    "MATCH (n:journal|event)\n",
    "SET n.reviewerNumber = CASE\n",
    "    WHEN ID(n)%3 = 0 THEN 1 \n",
    "    WHEN ID(n)%3 = 1 THEN 3\n",
    "    ELSE 5\n",
    "END\n",
    "\"\"\",\n",
    "\"\"\"\n",
    "MATCH (j:journal)-[:published]-(p:paper)-[c:reviewed_by]-(a:author)\n",
    "WITH j, p, collect(c) AS list\n",
    "WHERE j.reviewerNumber = 1\n",
    "DELETE  list[1],list[2]\n",
    "\n",
    "UNION \n",
    "\n",
    "MATCH (j:journal)-[:published]-(p:paper)-[c:reviewed_by]-(a:author)\n",
    "WHERE j.reviewerNumber = 5\n",
    "MATCH (au:author)\n",
    "WHERE NOT (au)-[:writes|reviewed_by]-(p:paper)\n",
    "WITH p, collect(au)[0..2] as authors\n",
    "UNWIND authors AS auth\n",
    "MERGE (p)-[:reviewed_by]->(auth)\n",
    "\"\"\",\n",
    "\"\"\"\n",
    "MATCH (j:journal)-[:published]-(p:paper)-[c:reviewed_by]-(a:author)\n",
    "SET c.resolution=\"Rejected\"\n",
    "\n",
    "UNION \n",
    "\n",
    "MATCH (j:journal)-[:published]-(p:paper)-[c:reviewed_by]-(a:author)\n",
    "WHERE j.reviewerNumber = 1\n",
    "SET c.resolution=\"Accepted\"\n",
    "\n",
    "UNION\n",
    "\n",
    "MATCH (j:journal)-[:published]-(p:paper)-[c:reviewed_by]-(a:author)\n",
    "WHERE j.reviewerNumber = 3\n",
    "WITH p, collect(c)[0..((ID(p)%2)+2)] as approved\n",
    "UNWIND approved AS appr\n",
    "SET appr.resolution=\"Accepted\"\n",
    "\n",
    "UNION\n",
    "\n",
    "MATCH (j:journal)-[:published]-(p:paper)-[c:reviewed_by]-(a:author)\n",
    "WHERE j.reviewerNumber = 5\n",
    "WITH p, collect(c)[0..((ID(p)%3)+3)] as approved\n",
    "UNWIND approved AS appr\n",
    "SET appr.resolution=\"Accepted\"\n",
    "\"\"\",\n",
    "f\"\"\"\n",
    "MATCH (:paper)-[r:reviewed_by]-(:author)\n",
    "WITH r, {bad_rev} AS bad_rev, SIZE({bad_rev}) AS bad_total, {good_rev} AS good_rev, SIZE({good_rev}) AS good_total\n",
    "SET r.review = CASE\n",
    "    WHEN r.resolution=\"Accepted\" THEN good_rev[ID(r) % good_total]\n",
    "    ELSE bad_rev[ID(r) % bad_total]\n",
    "END\n",
    "\"\"\"\n",
    "]\n",
    "\n",
    "for query in queries:\n",
    "    run_query(query)"
   ]
  },
  {
   "cell_type": "code",
   "execution_count": null,
   "metadata": {},
   "outputs": [
    {
     "name": "stderr",
     "output_type": "stream",
     "text": [
      "Received notification from DBMS server: {severity: WARNING} {code: Neo.ClientNotification.Statement.FeatureDeprecationWarning} {category: DEPRECATION} {title: This feature is deprecated and will be removed in future versions.} {description: The query used a deprecated function: `id`.} {position: line: 4, column: 10, offset: 62} for query: '\\nMATCH (n:journal|event)\\nSET n.reviewerNumber = CASE\\n    WHEN ID(n)%3 = 0 THEN 1 \\n    WHEN ID(n)%3 = 1 THEN 3\\n    ELSE 5\\nEND\\n'\n",
      "Received notification from DBMS server: {severity: WARNING} {code: Neo.ClientNotification.Statement.FeatureDeprecationWarning} {category: DEPRECATION} {title: This feature is deprecated and will be removed in future versions.} {description: The query used a deprecated function: `id`.} {position: line: 5, column: 10, offset: 91} for query: '\\nMATCH (n:journal|event)\\nSET n.reviewerNumber = CASE\\n    WHEN ID(n)%3 = 0 THEN 1 \\n    WHEN ID(n)%3 = 1 THEN 3\\n    ELSE 5\\nEND\\n'\n"
     ]
    },
    {
     "ename": "TransientError",
     "evalue": "{code: Neo.TransientError.General.MemoryPoolOutOfMemoryError} {message: The allocation of an extra 1,6 GiB would use more than the limit 1,4 GiB. Currently using 619,1 MiB. dbms.memory.transaction.total.max threshold reached}",
     "output_type": "error",
     "traceback": [
      "\u001b[1;31m---------------------------------------------------------------------------\u001b[0m",
      "\u001b[1;31mTransientError\u001b[0m                            Traceback (most recent call last)",
      "Cell \u001b[1;32mIn[49], line 69\u001b[0m\n\u001b[0;32m     60\u001b[0m query4\u001b[38;5;241m=\u001b[39m\u001b[38;5;124m\"\"\"\u001b[39m\n\u001b[0;32m     61\u001b[0m \u001b[38;5;124mMATCH (j:journal)-[:published]-(p: paper)-[c:reviewed_by]-(a:author)\u001b[39m\n\u001b[0;32m     62\u001b[0m \u001b[38;5;124mWHERE c.resolution=\u001b[39m\u001b[38;5;124m\"\u001b[39m\u001b[38;5;124mAccepted\u001b[39m\u001b[38;5;124m\"\u001b[39m\n\u001b[0;32m     63\u001b[0m \u001b[38;5;124mWITH j, p, COUNT(c) AS cnt\u001b[39m\n\u001b[0;32m     64\u001b[0m \u001b[38;5;124mRETURN j.reviewerNumber, cnt\u001b[39m\n\u001b[0;32m     65\u001b[0m \u001b[38;5;124m\"\"\"\u001b[39m\n\u001b[0;32m     68\u001b[0m run_query(query)\n\u001b[1;32m---> 69\u001b[0m run_query(query1)\n\u001b[0;32m     70\u001b[0m run_query(query2)\n\u001b[0;32m     71\u001b[0m results \u001b[38;5;241m=\u001b[39m run_query(query3)\n",
      "Cell \u001b[1;32mIn[19], line 3\u001b[0m, in \u001b[0;36mrun_query\u001b[1;34m(query, params)\u001b[0m\n\u001b[0;32m      1\u001b[0m \u001b[38;5;28;01mdef\u001b[39;00m \u001b[38;5;21mrun_query\u001b[39m(query, params\u001b[38;5;241m=\u001b[39m{}):\n\u001b[0;32m      2\u001b[0m     \u001b[38;5;28;01mwith\u001b[39;00m driver\u001b[38;5;241m.\u001b[39msession() \u001b[38;5;28;01mas\u001b[39;00m session:\n\u001b[1;32m----> 3\u001b[0m         result \u001b[38;5;241m=\u001b[39m session\u001b[38;5;241m.\u001b[39mrun(query, params)\n\u001b[0;32m      4\u001b[0m         \u001b[38;5;28;01mreturn\u001b[39;00m result\u001b[38;5;241m.\u001b[39mdata()\n",
      "File \u001b[1;32m~\\AppData\\Roaming\\Python\\Python312\\site-packages\\neo4j\\_sync\\work\\session.py:328\u001b[0m, in \u001b[0;36mSession.run\u001b[1;34m(self, query, parameters, **kwargs)\u001b[0m\n\u001b[0;32m    326\u001b[0m bookmarks \u001b[38;5;241m=\u001b[39m \u001b[38;5;28mself\u001b[39m\u001b[38;5;241m.\u001b[39m_get_bookmarks()\n\u001b[0;32m    327\u001b[0m parameters \u001b[38;5;241m=\u001b[39m \u001b[38;5;28mdict\u001b[39m(parameters \u001b[38;5;129;01mor\u001b[39;00m {}, \u001b[38;5;241m*\u001b[39m\u001b[38;5;241m*\u001b[39mkwargs)\n\u001b[1;32m--> 328\u001b[0m \u001b[38;5;28mself\u001b[39m\u001b[38;5;241m.\u001b[39m_auto_result\u001b[38;5;241m.\u001b[39m_run(\n\u001b[0;32m    329\u001b[0m     query,\n\u001b[0;32m    330\u001b[0m     parameters,\n\u001b[0;32m    331\u001b[0m     \u001b[38;5;28mself\u001b[39m\u001b[38;5;241m.\u001b[39m_config\u001b[38;5;241m.\u001b[39mdatabase,\n\u001b[0;32m    332\u001b[0m     \u001b[38;5;28mself\u001b[39m\u001b[38;5;241m.\u001b[39m_config\u001b[38;5;241m.\u001b[39mimpersonated_user,\n\u001b[0;32m    333\u001b[0m     \u001b[38;5;28mself\u001b[39m\u001b[38;5;241m.\u001b[39m_config\u001b[38;5;241m.\u001b[39mdefault_access_mode,\n\u001b[0;32m    334\u001b[0m     bookmarks,\n\u001b[0;32m    335\u001b[0m     \u001b[38;5;28mself\u001b[39m\u001b[38;5;241m.\u001b[39m_config\u001b[38;5;241m.\u001b[39mnotifications_min_severity,\n\u001b[0;32m    336\u001b[0m     \u001b[38;5;28mself\u001b[39m\u001b[38;5;241m.\u001b[39m_config\u001b[38;5;241m.\u001b[39mnotifications_disabled_classifications,\n\u001b[0;32m    337\u001b[0m )\n\u001b[0;32m    339\u001b[0m \u001b[38;5;28;01mreturn\u001b[39;00m \u001b[38;5;28mself\u001b[39m\u001b[38;5;241m.\u001b[39m_auto_result\n",
      "File \u001b[1;32m~\\AppData\\Roaming\\Python\\Python312\\site-packages\\neo4j\\_sync\\work\\result.py:236\u001b[0m, in \u001b[0;36mResult._run\u001b[1;34m(self, query, parameters, db, imp_user, access_mode, bookmarks, notifications_min_severity, notifications_disabled_classifications)\u001b[0m\n\u001b[0;32m    234\u001b[0m \u001b[38;5;28mself\u001b[39m\u001b[38;5;241m.\u001b[39m_pull()\n\u001b[0;32m    235\u001b[0m \u001b[38;5;28mself\u001b[39m\u001b[38;5;241m.\u001b[39m_connection\u001b[38;5;241m.\u001b[39msend_all()\n\u001b[1;32m--> 236\u001b[0m \u001b[38;5;28mself\u001b[39m\u001b[38;5;241m.\u001b[39m_attach()\n",
      "File \u001b[1;32m~\\AppData\\Roaming\\Python\\Python312\\site-packages\\neo4j\\_sync\\work\\result.py:430\u001b[0m, in \u001b[0;36mResult._attach\u001b[1;34m(self)\u001b[0m\n\u001b[0;32m    428\u001b[0m \u001b[38;5;28;01mif\u001b[39;00m \u001b[38;5;28mself\u001b[39m\u001b[38;5;241m.\u001b[39m_exhausted \u001b[38;5;129;01mis\u001b[39;00m \u001b[38;5;28;01mFalse\u001b[39;00m:\n\u001b[0;32m    429\u001b[0m     \u001b[38;5;28;01mwhile\u001b[39;00m \u001b[38;5;28mself\u001b[39m\u001b[38;5;241m.\u001b[39m_attached \u001b[38;5;129;01mis\u001b[39;00m \u001b[38;5;28;01mFalse\u001b[39;00m:\n\u001b[1;32m--> 430\u001b[0m         \u001b[38;5;28mself\u001b[39m\u001b[38;5;241m.\u001b[39m_connection\u001b[38;5;241m.\u001b[39mfetch_message()\n",
      "File \u001b[1;32m~\\AppData\\Roaming\\Python\\Python312\\site-packages\\neo4j\\_sync\\io\\_common.py:184\u001b[0m, in \u001b[0;36mConnectionErrorHandler.__getattr__.<locals>.outer.<locals>.inner\u001b[1;34m(*args, **kwargs)\u001b[0m\n\u001b[0;32m    182\u001b[0m \u001b[38;5;28;01mdef\u001b[39;00m \u001b[38;5;21minner\u001b[39m(\u001b[38;5;241m*\u001b[39margs, \u001b[38;5;241m*\u001b[39m\u001b[38;5;241m*\u001b[39mkwargs):\n\u001b[0;32m    183\u001b[0m     \u001b[38;5;28;01mtry\u001b[39;00m:\n\u001b[1;32m--> 184\u001b[0m         func(\u001b[38;5;241m*\u001b[39margs, \u001b[38;5;241m*\u001b[39m\u001b[38;5;241m*\u001b[39mkwargs)\n\u001b[0;32m    185\u001b[0m     \u001b[38;5;28;01mexcept\u001b[39;00m (Neo4jError, ServiceUnavailable, SessionExpired) \u001b[38;5;28;01mas\u001b[39;00m exc:\n\u001b[0;32m    186\u001b[0m         \u001b[38;5;28;01massert\u001b[39;00m \u001b[38;5;129;01mnot\u001b[39;00m asyncio\u001b[38;5;241m.\u001b[39miscoroutinefunction(\u001b[38;5;28mself\u001b[39m\u001b[38;5;241m.\u001b[39m__on_error)\n",
      "File \u001b[1;32m~\\AppData\\Roaming\\Python\\Python312\\site-packages\\neo4j\\_sync\\io\\_bolt.py:864\u001b[0m, in \u001b[0;36mBolt.fetch_message\u001b[1;34m(self)\u001b[0m\n\u001b[0;32m    860\u001b[0m \u001b[38;5;66;03m# Receive exactly one message\u001b[39;00m\n\u001b[0;32m    861\u001b[0m tag, fields \u001b[38;5;241m=\u001b[39m \u001b[38;5;28mself\u001b[39m\u001b[38;5;241m.\u001b[39minbox\u001b[38;5;241m.\u001b[39mpop(\n\u001b[0;32m    862\u001b[0m     hydration_hooks\u001b[38;5;241m=\u001b[39m\u001b[38;5;28mself\u001b[39m\u001b[38;5;241m.\u001b[39mresponses[\u001b[38;5;241m0\u001b[39m]\u001b[38;5;241m.\u001b[39mhydration_hooks\n\u001b[0;32m    863\u001b[0m )\n\u001b[1;32m--> 864\u001b[0m res \u001b[38;5;241m=\u001b[39m \u001b[38;5;28mself\u001b[39m\u001b[38;5;241m.\u001b[39m_process_message(tag, fields)\n\u001b[0;32m    865\u001b[0m \u001b[38;5;28mself\u001b[39m\u001b[38;5;241m.\u001b[39midle_since \u001b[38;5;241m=\u001b[39m monotonic()\n\u001b[0;32m    866\u001b[0m \u001b[38;5;28;01mreturn\u001b[39;00m res\n",
      "File \u001b[1;32m~\\AppData\\Roaming\\Python\\Python312\\site-packages\\neo4j\\_sync\\io\\_bolt5.py:500\u001b[0m, in \u001b[0;36mBolt5x0._process_message\u001b[1;34m(self, tag, fields)\u001b[0m\n\u001b[0;32m    498\u001b[0m \u001b[38;5;28mself\u001b[39m\u001b[38;5;241m.\u001b[39m_server_state_manager\u001b[38;5;241m.\u001b[39mstate \u001b[38;5;241m=\u001b[39m \u001b[38;5;28mself\u001b[39m\u001b[38;5;241m.\u001b[39mbolt_states\u001b[38;5;241m.\u001b[39mFAILED\n\u001b[0;32m    499\u001b[0m \u001b[38;5;28;01mtry\u001b[39;00m:\n\u001b[1;32m--> 500\u001b[0m     response\u001b[38;5;241m.\u001b[39mon_failure(summary_metadata \u001b[38;5;129;01mor\u001b[39;00m {})\n\u001b[0;32m    501\u001b[0m \u001b[38;5;28;01mexcept\u001b[39;00m (ServiceUnavailable, DatabaseUnavailable):\n\u001b[0;32m    502\u001b[0m     \u001b[38;5;28;01mif\u001b[39;00m \u001b[38;5;28mself\u001b[39m\u001b[38;5;241m.\u001b[39mpool:\n",
      "File \u001b[1;32m~\\AppData\\Roaming\\Python\\Python312\\site-packages\\neo4j\\_sync\\io\\_common.py:254\u001b[0m, in \u001b[0;36mResponse.on_failure\u001b[1;34m(self, metadata)\u001b[0m\n\u001b[0;32m    252\u001b[0m handler \u001b[38;5;241m=\u001b[39m \u001b[38;5;28mself\u001b[39m\u001b[38;5;241m.\u001b[39mhandlers\u001b[38;5;241m.\u001b[39mget(\u001b[38;5;124m\"\u001b[39m\u001b[38;5;124mon_summary\u001b[39m\u001b[38;5;124m\"\u001b[39m)\n\u001b[0;32m    253\u001b[0m Util\u001b[38;5;241m.\u001b[39mcallback(handler)\n\u001b[1;32m--> 254\u001b[0m \u001b[38;5;28;01mraise\u001b[39;00m \u001b[38;5;28mself\u001b[39m\u001b[38;5;241m.\u001b[39m_hydrate_error(metadata)\n",
      "\u001b[1;31mTransientError\u001b[0m: {code: Neo.TransientError.General.MemoryPoolOutOfMemoryError} {message: The allocation of an extra 1,6 GiB would use more than the limit 1,4 GiB. Currently using 619,1 MiB. dbms.memory.transaction.total.max threshold reached}"
     ]
    }
   ],
   "source": [
    "#CHECK QUERIES\n",
    "query3=\"\"\"\n",
    "MATCH (j:journal)-[:published]-(p: paper)-[c:reviewed_by]-(a:author)\n",
    "WITH j, p, COUNT(c) AS cnt\n",
    "WHERE j.reviewerNumber<>cnt\n",
    "RETURN j.reviewerNumber, cnt\n",
    "\"\"\"\n",
    "query4=\"\"\"\n",
    "MATCH (j:journal)-[:published]-(p: paper)-[c:reviewed_by]-(a:author)\n",
    "WHERE c.resolution=\"Accepted\"\n",
    "WITH j, p, COUNT(c) AS cnt\n",
    "RETURN j.reviewerNumber, cnt\n",
    "\"\"\"\n"
   ]
  }
 ],
 "metadata": {
  "kernelspec": {
   "display_name": "base",
   "language": "python",
   "name": "python3"
  },
  "language_info": {
   "codemirror_mode": {
    "name": "ipython",
    "version": 3
   },
   "file_extension": ".py",
   "mimetype": "text/x-python",
   "name": "python",
   "nbconvert_exporter": "python",
   "pygments_lexer": "ipython3",
   "version": "3.12.7"
  }
 },
 "nbformat": 4,
 "nbformat_minor": 2
}
