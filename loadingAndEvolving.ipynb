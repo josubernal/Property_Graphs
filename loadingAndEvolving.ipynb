{
 "cells": [
  {
   "cell_type": "markdown",
   "metadata": {},
   "source": [
    "***A2 LOADING***\n",
    "\n",
    "This section requires your neo4j to be closed. We will generate the necessary csvs using a script and then load them into neo4j with a command line. Follow the steps of the notebook carefully."
   ]
  },
  {
   "cell_type": "code",
   "execution_count": 6,
   "metadata": {},
   "outputs": [
    {
     "name": "stdout",
     "output_type": "stream",
     "text": [
      "CSVs successfully created\n"
     ]
    }
   ],
   "source": [
    "%run scripts/make.py\n",
    "\n"
   ]
  },
  {
   "cell_type": "code",
   "execution_count": null,
   "metadata": {},
   "outputs": [
    {
     "name": "stdout",
     "output_type": "stream",
     "text": [
      "Copy and paste the following command in your terminal to import the csv files into Neo4j:\n",
      "\n",
      "C:\\Users\\josub\\Documents\\Neo4j\\relate-data\\dbmss\\dbms-63530268-3389-4bdc-9b02-07e7210fa2f0\\bin\\neo4j-admin database import full --overwrite-destination --verbose --delimiter \"|\" --array-delimiter \"^\" --nodes=paper=\"c:/Users/josub/Desktop/BDMA/Barcelona/Semantic_Data_Management/Property_Graph/csv/paper.csv\" --nodes=author=\"c:/Users/josub/Desktop/BDMA/Barcelona/Semantic_Data_Management/Property_Graph/csv/author.csv\" --nodes=keyword=\"c:/Users/josub/Desktop/BDMA/Barcelona/Semantic_Data_Management/Property_Graph/csv/keywords.csv\" --nodes=event=\"c:/Users/josub/Desktop/BDMA/Barcelona/Semantic_Data_Management/Property_Graph/csv/confws.csv\" --nodes=event_edition=\"c:/Users/josub/Desktop/BDMA/Barcelona/Semantic_Data_Management/Property_Graph/csv/confws_edition.csv\" --nodes=journal=\"c:/Users/josub/Desktop/BDMA/Barcelona/Semantic_Data_Management/Property_Graph/csv/journal.csv\" --relationships=published=\"c:/Users/josub/Desktop/BDMA/Barcelona/Semantic_Data_Management/Property_Graph/csv/paper_journal.csv\" --relationships=presented=\"c:/Users/josub/Desktop/BDMA/Barcelona/Semantic_Data_Management/Property_Graph/csv/paper_confws.csv\" --relationships=writes=\"c:/Users/josub/Desktop/BDMA/Barcelona/Semantic_Data_Management/Property_Graph/csv/author_paper.csv\" --relationships=cite=\"c:/Users/josub/Desktop/BDMA/Barcelona/Semantic_Data_Management/Property_Graph/csv/paper_paper.csv\" --relationships=has_keyword=\"c:/Users/josub/Desktop/BDMA/Barcelona/Semantic_Data_Management/Property_Graph/csv/paper_keywords.csv\" --relationships=has_corresponding_author=\"c:/Users/josub/Desktop/BDMA/Barcelona/Semantic_Data_Management/Property_Graph/csv/paper_corresponding_author.csv\" --relationships=has_edition=\"c:/Users/josub/Desktop/BDMA/Barcelona/Semantic_Data_Management/Property_Graph/csv/confws_edition_confws.csv\" --relationships=reviewed_by=\"c:/Users/josub/Desktop/BDMA/Barcelona/Semantic_Data_Management/Property_Graph/csv/paper_review.csv\"\n"
     ]
    }
   ],
   "source": [
    "import platform\n",
    "from dotenv import load_dotenv\n",
    "import os\n",
    "import subprocess\n",
    "\n",
    "load_dotenv()\n",
    "csv_path = os.getcwd().replace(\"\\\\\", \"/\") + \"/csv\"\n",
    "\n",
    "DB_PATH= os.environ.get('NEO4J_DB_PATH')\n",
    "\n",
    "\n",
    "if platform.system() == \"Windows\":\n",
    "    print(\"Copy and paste the following command in your terminal to import the csv files into Neo4j:\")\n",
    "    print(\"\")\n",
    "    print(f'{DB_PATH}\\\\bin\\\\neo4j-admin database import full --overwrite-destination --verbose --delimiter \"|\" --array-delimiter \"^\" --nodes=paper=\"{csv_path}/paper.csv\" --nodes=author=\"{csv_path}/author.csv\" --nodes=keyword=\"{csv_path}/keywords.csv\" --nodes=event=\"{csv_path}/confws.csv\" --nodes=event_edition=\"{csv_path}/confws_edition.csv\" --nodes=journal=\"{csv_path}/journal.csv\" --relationships=published=\"{csv_path}/paper_journal.csv\" --relationships=presented=\"{csv_path}/paper_confws.csv\" --relationships=writes=\"{csv_path}/author_paper.csv\" --relationships=cite=\"{csv_path}/paper_paper.csv\" --relationships=has_keyword=\"{csv_path}/paper_keywords.csv\" --relationships=has_corresponding_author=\"{csv_path}/paper_corresponding_author.csv\" --relationships=has_edition=\"{csv_path}/confws_edition_confws.csv\" --relationships=reviewed_by=\"{csv_path}/paper_review.csv\"')\n",
    "elif platform.system() == \"Darwin\":\n",
    "    print(\"Running the command csv/neo4j_import.sh\")\n",
    "else:\n",
    "    print(\"Script only valid for Windows and MacOS, if Linux look for an equivalent command online.\")"
   ]
  },
  {
   "cell_type": "markdown",
   "metadata": {},
   "source": [
    "Congratulations! If followed correctly, your the data should be loaded in neo4j. If you want to inspect it you can run neo4j and run one of the following queries:\n",
    "\n",
    "CALL db.schema.visualization()\n",
    "\n",
    "_or_\n",
    "\n",
    "MATCH (n) RETURN n;\n",
    "\n",
    "_PD: Please close neo4j now to continue, because we will have to change the configuration of the db to do the next step._"
   ]
  },
  {
   "cell_type": "markdown",
   "metadata": {},
   "source": [
    "***A3 EVOLVING***\n",
    "\n",
    "First of all we will have to change our memory alocation configuration to run the next step. Let's start by locating the neo4j.conf file. If using Neo4j Desktop it can be found at:\n",
    "\n",
    "...\\Neo4j\\relate-data\\dbmss\\[db-name]\\conf\n",
    "\n",
    "Open it and change dbms.memory.heap.max_size to 5GB\n",
    "\n",
    "dbms.memory.heap.max_size=5G\n",
    "\n",
    "Then save it, open neo4j again and run the following script."
   ]
  },
  {
   "cell_type": "code",
   "execution_count": 6,
   "metadata": {},
   "outputs": [
    {
     "name": "stderr",
     "output_type": "stream",
     "text": [
      "Received notification from DBMS server: {severity: WARNING} {code: Neo.ClientNotification.Statement.FeatureDeprecationWarning} {category: DEPRECATION} {title: This feature is deprecated and will be removed in future versions.} {description: The query used a deprecated function: `id`.} {position: line: 5, column: 14, offset: 110} for query: '\\nMATCH (a:author)\\nMATCH (af:affiliation)\\nWITH a, COLLECT(af) as affs, SIZE(COLLECT(af)) as total\\nWITH a, affs[ID(a) % total] as m\\nMERGE (a)-[:affiliated_to]->(m)\\n'\n",
      "Received notification from DBMS server: {severity: WARNING} {code: Neo.ClientNotification.Statement.FeatureDeprecationWarning} {category: DEPRECATION} {title: This feature is deprecated and will be removed in future versions.} {description: The query used a deprecated function: `id`.} {position: line: 4, column: 10, offset: 62} for query: '\\nMATCH (n:journal|event)\\nSET n.reviewerNumber = CASE\\n    WHEN ID(n)%3 = 0 THEN 1 \\n    WHEN ID(n)%3 = 1 THEN 3\\n    ELSE 5\\nEND\\n'\n",
      "Received notification from DBMS server: {severity: WARNING} {code: Neo.ClientNotification.Statement.FeatureDeprecationWarning} {category: DEPRECATION} {title: This feature is deprecated and will be removed in future versions.} {description: The query used a deprecated function: `id`.} {position: line: 5, column: 10, offset: 91} for query: '\\nMATCH (n:journal|event)\\nSET n.reviewerNumber = CASE\\n    WHEN ID(n)%3 = 0 THEN 1 \\n    WHEN ID(n)%3 = 1 THEN 3\\n    ELSE 5\\nEND\\n'\n",
      "Received notification from DBMS server: {severity: WARNING} {code: Neo.ClientNotification.Statement.FeatureDeprecationWarning} {category: DEPRECATION} {title: This feature is deprecated and will be removed in future versions.} {description: The query used a deprecated function: `id`.} {position: line: 15, column: 25, offset: 356} for query: '\\nMATCH (j:journal)-[:published]-(p:paper)-[c:reviewed_by]-(a:author)\\nSET c.resolution=\"Rejected\"\\n\\nUNION \\n\\nMATCH (j:journal)-[:published]-(p:paper)-[c:reviewed_by]-(a:author)\\nWHERE j.reviewerNumber = 1\\nSET c.resolution=\"Accepted\"\\n\\nUNION\\n\\nMATCH (j:journal)-[:published]-(p:paper)-[c:reviewed_by]-(a:author)\\nWHERE j.reviewerNumber = 3\\nWITH p, collect(c)[0..((ID(p)%2)+2)] as approved\\nUNWIND approved AS appr\\nSET appr.resolution=\"Accepted\"\\n\\nUNION\\n\\nMATCH (j:journal)-[:published]-(p:paper)-[c:reviewed_by]-(a:author)\\nWHERE j.reviewerNumber = 5\\nWITH p, collect(c)[0..((ID(p)%3)+3)] as approved\\nUNWIND approved AS appr\\nSET appr.resolution=\"Accepted\"\\n'\n",
      "Received notification from DBMS server: {severity: WARNING} {code: Neo.ClientNotification.Statement.FeatureDeprecationWarning} {category: DEPRECATION} {title: This feature is deprecated and will be removed in future versions.} {description: The query used a deprecated function: `id`.} {position: line: 23, column: 25, offset: 563} for query: '\\nMATCH (j:journal)-[:published]-(p:paper)-[c:reviewed_by]-(a:author)\\nSET c.resolution=\"Rejected\"\\n\\nUNION \\n\\nMATCH (j:journal)-[:published]-(p:paper)-[c:reviewed_by]-(a:author)\\nWHERE j.reviewerNumber = 1\\nSET c.resolution=\"Accepted\"\\n\\nUNION\\n\\nMATCH (j:journal)-[:published]-(p:paper)-[c:reviewed_by]-(a:author)\\nWHERE j.reviewerNumber = 3\\nWITH p, collect(c)[0..((ID(p)%2)+2)] as approved\\nUNWIND approved AS appr\\nSET appr.resolution=\"Accepted\"\\n\\nUNION\\n\\nMATCH (j:journal)-[:published]-(p:paper)-[c:reviewed_by]-(a:author)\\nWHERE j.reviewerNumber = 5\\nWITH p, collect(c)[0..((ID(p)%3)+3)] as approved\\nUNWIND approved AS appr\\nSET appr.resolution=\"Accepted\"\\n'\n",
      "Received notification from DBMS server: {severity: WARNING} {code: Neo.ClientNotification.Statement.FeatureDeprecationWarning} {category: DEPRECATION} {title: This feature is deprecated and will be removed in future versions.} {description: The query used a deprecated function: `id`.} {position: line: 5, column: 48, offset: 6786} for query: '\\nMATCH (:paper)-[r:reviewed_by]-(:author)\\nWITH r, [\\'While the topic is interesting, the methodology lacks depth and fails to address key issues. The data analysis is weak, making it difficult to draw concrete conclusions.\\', \\'The paper suffers from poor organization and unclear hypotheses. The literature review is inadequate, and there are several inconsistencies in the data interpretation.\\', \\'Despite an interesting premise, the study lacks sufficient data to support its claims. The conclusions feel speculative rather than evidence-based.\\', \\'The study raises interesting questions but lacks empirical rigor. The authors fail to control for key variables, leading to questionable results.\\', \\'Although the paper addresses an important problem, the lack of reproducibility in the experiments weakens its impact. More transparency in data collection is needed.\\', \\'Several key assumptions in this study are not justified, and the statistical methods used are not appropriate for the dataset. This significantly affects the credibility of the results.\\', \\'While the research question is interesting, the paper does not provide enough supporting evidence. The discussion lacks depth, making the conclusions feel premature.\\', \\'The lack of a proper control group and the small sample size weaken the reliability of the results. The paper would benefit from a more rigorous methodology.\\', \\'Several key aspects of the research are not adequately explained, and the paper leaves many questions unanswered. The authors should provide more detailed justifications for their choices.\\'] AS bad_rev, SIZE([\\'While the topic is interesting, the methodology lacks depth and fails to address key issues. The data analysis is weak, making it difficult to draw concrete conclusions.\\', \\'The paper suffers from poor organization and unclear hypotheses. The literature review is inadequate, and there are several inconsistencies in the data interpretation.\\', \\'Despite an interesting premise, the study lacks sufficient data to support its claims. The conclusions feel speculative rather than evidence-based.\\', \\'The study raises interesting questions but lacks empirical rigor. The authors fail to control for key variables, leading to questionable results.\\', \\'Although the paper addresses an important problem, the lack of reproducibility in the experiments weakens its impact. More transparency in data collection is needed.\\', \\'Several key assumptions in this study are not justified, and the statistical methods used are not appropriate for the dataset. This significantly affects the credibility of the results.\\', \\'While the research question is interesting, the paper does not provide enough supporting evidence. The discussion lacks depth, making the conclusions feel premature.\\', \\'The lack of a proper control group and the small sample size weaken the reliability of the results. The paper would benefit from a more rigorous methodology.\\', \\'Several key aspects of the research are not adequately explained, and the paper leaves many questions unanswered. The authors should provide more detailed justifications for their choices.\\']) AS bad_total, [\\'This paper provides a comprehensive analysis of the subject, presenting strong evidence and a well-structured methodology. The results are significant and contribute meaningfully to the field.\\', \\'An outstanding contribution to the literature, offering novel insights backed by rigorous experimentation. The discussion section effectively ties findings to existing research.\\', \\'A well-written and informative paper that successfully fills a gap in the current research. The authors provide a clear and logical argument, supported by robust statistical analysis.\\', \\'A groundbreaking study that introduces an innovative approach to the problem. The results are compelling, and the methodology is sound. This work is likely to have a strong impact on future research.\\', \\'A solid study with well-executed experiments and detailed analysis. The findings are valuable, and the discussion provides useful implications for both theory and practice.\\', \\'This research presents a fresh perspective on a long-standing issue. The theoretical framework is robust, and the empirical findings are well-substantiated.\\', \\'The authors make a compelling argument supported by a thorough literature review. The paper is well-structured and contributes valuable insights to the field.\\', \\'A meticulous and well-researched study that advances the current understanding of the subject. The authors clearly outline their contributions and provide detailed explanations.\\', \\'An excellent synthesis of existing knowledge, supplemented by new empirical findings. The paper is clear, well-argued, and adds significant value to academic discourse.\\', \\'The study introduces an innovative approach, and the results suggest promising applications. The writing is clear, and the conclusions are well-supported.\\'] AS good_rev, SIZE([\\'This paper provides a comprehensive analysis of the subject, presenting strong evidence and a well-structured methodology. The results are significant and contribute meaningfully to the field.\\', \\'An outstanding contribution to the literature, offering novel insights backed by rigorous experimentation. The discussion section effectively ties findings to existing research.\\', \\'A well-written and informative paper that successfully fills a gap in the current research. The authors provide a clear and logical argument, supported by robust statistical analysis.\\', \\'A groundbreaking study that introduces an innovative approach to the problem. The results are compelling, and the methodology is sound. This work is likely to have a strong impact on future research.\\', \\'A solid study with well-executed experiments and detailed analysis. The findings are valuable, and the discussion provides useful implications for both theory and practice.\\', \\'This research presents a fresh perspective on a long-standing issue. The theoretical framework is robust, and the empirical findings are well-substantiated.\\', \\'The authors make a compelling argument supported by a thorough literature review. The paper is well-structured and contributes valuable insights to the field.\\', \\'A meticulous and well-researched study that advances the current understanding of the subject. The authors clearly outline their contributions and provide detailed explanations.\\', \\'An excellent synthesis of existing knowledge, supplemented by new empirical findings. The paper is clear, well-argued, and adds significant value to academic discourse.\\', \\'The study introduces an innovative approach, and the results suggest promising applications. The writing is clear, and the conclusions are well-supported.\\']) AS good_total\\nSET r.review = CASE\\n    WHEN r.resolution=\"Accepted\" THEN good_rev[ID(r) % good_total]\\n    ELSE bad_rev[ID(r) % bad_total]\\nEND\\n'\n",
      "Received notification from DBMS server: {severity: WARNING} {code: Neo.ClientNotification.Statement.FeatureDeprecationWarning} {category: DEPRECATION} {title: This feature is deprecated and will be removed in future versions.} {description: The query used a deprecated function: `id`.} {position: line: 6, column: 18, offset: 6823} for query: '\\nMATCH (:paper)-[r:reviewed_by]-(:author)\\nWITH r, [\\'While the topic is interesting, the methodology lacks depth and fails to address key issues. The data analysis is weak, making it difficult to draw concrete conclusions.\\', \\'The paper suffers from poor organization and unclear hypotheses. The literature review is inadequate, and there are several inconsistencies in the data interpretation.\\', \\'Despite an interesting premise, the study lacks sufficient data to support its claims. The conclusions feel speculative rather than evidence-based.\\', \\'The study raises interesting questions but lacks empirical rigor. The authors fail to control for key variables, leading to questionable results.\\', \\'Although the paper addresses an important problem, the lack of reproducibility in the experiments weakens its impact. More transparency in data collection is needed.\\', \\'Several key assumptions in this study are not justified, and the statistical methods used are not appropriate for the dataset. This significantly affects the credibility of the results.\\', \\'While the research question is interesting, the paper does not provide enough supporting evidence. The discussion lacks depth, making the conclusions feel premature.\\', \\'The lack of a proper control group and the small sample size weaken the reliability of the results. The paper would benefit from a more rigorous methodology.\\', \\'Several key aspects of the research are not adequately explained, and the paper leaves many questions unanswered. The authors should provide more detailed justifications for their choices.\\'] AS bad_rev, SIZE([\\'While the topic is interesting, the methodology lacks depth and fails to address key issues. The data analysis is weak, making it difficult to draw concrete conclusions.\\', \\'The paper suffers from poor organization and unclear hypotheses. The literature review is inadequate, and there are several inconsistencies in the data interpretation.\\', \\'Despite an interesting premise, the study lacks sufficient data to support its claims. The conclusions feel speculative rather than evidence-based.\\', \\'The study raises interesting questions but lacks empirical rigor. The authors fail to control for key variables, leading to questionable results.\\', \\'Although the paper addresses an important problem, the lack of reproducibility in the experiments weakens its impact. More transparency in data collection is needed.\\', \\'Several key assumptions in this study are not justified, and the statistical methods used are not appropriate for the dataset. This significantly affects the credibility of the results.\\', \\'While the research question is interesting, the paper does not provide enough supporting evidence. The discussion lacks depth, making the conclusions feel premature.\\', \\'The lack of a proper control group and the small sample size weaken the reliability of the results. The paper would benefit from a more rigorous methodology.\\', \\'Several key aspects of the research are not adequately explained, and the paper leaves many questions unanswered. The authors should provide more detailed justifications for their choices.\\']) AS bad_total, [\\'This paper provides a comprehensive analysis of the subject, presenting strong evidence and a well-structured methodology. The results are significant and contribute meaningfully to the field.\\', \\'An outstanding contribution to the literature, offering novel insights backed by rigorous experimentation. The discussion section effectively ties findings to existing research.\\', \\'A well-written and informative paper that successfully fills a gap in the current research. The authors provide a clear and logical argument, supported by robust statistical analysis.\\', \\'A groundbreaking study that introduces an innovative approach to the problem. The results are compelling, and the methodology is sound. This work is likely to have a strong impact on future research.\\', \\'A solid study with well-executed experiments and detailed analysis. The findings are valuable, and the discussion provides useful implications for both theory and practice.\\', \\'This research presents a fresh perspective on a long-standing issue. The theoretical framework is robust, and the empirical findings are well-substantiated.\\', \\'The authors make a compelling argument supported by a thorough literature review. The paper is well-structured and contributes valuable insights to the field.\\', \\'A meticulous and well-researched study that advances the current understanding of the subject. The authors clearly outline their contributions and provide detailed explanations.\\', \\'An excellent synthesis of existing knowledge, supplemented by new empirical findings. The paper is clear, well-argued, and adds significant value to academic discourse.\\', \\'The study introduces an innovative approach, and the results suggest promising applications. The writing is clear, and the conclusions are well-supported.\\'] AS good_rev, SIZE([\\'This paper provides a comprehensive analysis of the subject, presenting strong evidence and a well-structured methodology. The results are significant and contribute meaningfully to the field.\\', \\'An outstanding contribution to the literature, offering novel insights backed by rigorous experimentation. The discussion section effectively ties findings to existing research.\\', \\'A well-written and informative paper that successfully fills a gap in the current research. The authors provide a clear and logical argument, supported by robust statistical analysis.\\', \\'A groundbreaking study that introduces an innovative approach to the problem. The results are compelling, and the methodology is sound. This work is likely to have a strong impact on future research.\\', \\'A solid study with well-executed experiments and detailed analysis. The findings are valuable, and the discussion provides useful implications for both theory and practice.\\', \\'This research presents a fresh perspective on a long-standing issue. The theoretical framework is robust, and the empirical findings are well-substantiated.\\', \\'The authors make a compelling argument supported by a thorough literature review. The paper is well-structured and contributes valuable insights to the field.\\', \\'A meticulous and well-researched study that advances the current understanding of the subject. The authors clearly outline their contributions and provide detailed explanations.\\', \\'An excellent synthesis of existing knowledge, supplemented by new empirical findings. The paper is clear, well-argued, and adds significant value to academic discourse.\\', \\'The study introduces an innovative approach, and the results suggest promising applications. The writing is clear, and the conclusions are well-supported.\\']) AS good_total\\nSET r.review = CASE\\n    WHEN r.resolution=\"Accepted\" THEN good_rev[ID(r) % good_total]\\n    ELSE bad_rev[ID(r) % bad_total]\\nEND\\n'\n"
     ]
    }
   ],
   "source": [
    "%run scripts/evolve.py\n"
   ]
  },
  {
   "cell_type": "markdown",
   "metadata": {},
   "source": [
    "If everything was done correctly your db should have changed. To check the changes you can use the same commands as before. "
   ]
  }
 ],
 "metadata": {
  "kernelspec": {
   "display_name": "base",
   "language": "python",
   "name": "python3"
  },
  "language_info": {
   "codemirror_mode": {
    "name": "ipython",
    "version": 3
   },
   "file_extension": ".py",
   "mimetype": "text/x-python",
   "name": "python",
   "nbconvert_exporter": "python",
   "pygments_lexer": "ipython3",
   "version": "3.12.7"
  }
 },
 "nbformat": 4,
 "nbformat_minor": 2
}
